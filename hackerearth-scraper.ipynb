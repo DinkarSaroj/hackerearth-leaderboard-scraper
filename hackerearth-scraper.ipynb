{
 "cells": [
  {
   "cell_type": "code",
   "execution_count": 3,
   "metadata": {},
   "outputs": [
    {
     "name": "stdout",
     "output_type": "stream",
     "text": [
      "Note: you may need to restart the kernel to use updated packages.\n"
     ]
    },
    {
     "name": "stderr",
     "output_type": "stream",
     "text": [
      "ERROR: Could not find a version that satisfies the requirement stringio (from versions: none)\n",
      "ERROR: No matching distribution found for stringio\n"
     ]
    }
   ],
   "source": [
    "pip install stringio\n"
   ]
  },
  {
   "cell_type": "code",
   "execution_count": 5,
   "metadata": {},
   "outputs": [],
   "source": [
    "from selenium import webdriver\n",
    "from selenium.webdriver.common.by import By\n",
    "from selenium.webdriver.chrome.options import Options\n",
    "from selenium.webdriver.support.ui import WebDriverWait\n",
    "from selenium.webdriver.support import expected_conditions as EC\n",
    "import csv\n",
    "import time\n",
    "\n",
    "contest_name = input(\"Enter the Name of Contest\").replace(\" \", \"-\")\n",
    "# contest_name = \"the-great-sqlizer\"\n",
    "\n",
    "# Setup Chrome options\n",
    "chrome_options = Options()\n",
    "chrome_options.add_argument(\"--headless\")  # Enable headless mode for background execution\n",
    "\n",
    "# Set the path to the ChromeDriver\n",
    "driver = webdriver.Chrome(options=chrome_options)\n",
    "\n",
    "# Open the CSV file and prepare to write to it\n",
    "with open(f'{contest_name}.csv', 'w', newline='', encoding='utf-8') as file:\n",
    "    writer = csv.writer(file)\n",
    "    writer.writerow(['Name', 'Username', 'Score', 'Questions Solved', 'Time'])\n",
    "\n",
    "    \n",
    "    # Start from the first page\n",
    "    page = 1\n",
    "    try:\n",
    "        while True:\n",
    "            url = f\"https://www.hackerearth.com/challenges/competitive/{contest_name}/leaderboard/page/{page}/\"\n",
    "            driver.get(url)\n",
    "            driver.maximize_window()\n",
    "\n",
    "            # Wait for the table to load\n",
    "            WebDriverWait(driver, 10).until(\n",
    "                EC.presence_of_element_located((By.CSS_SELECTOR, \"tbody.align-top\"))\n",
    "            )\n",
    "\n",
    "            # Extract rows from the leaderboard table\n",
    "            rows = driver.find_elements(By.CSS_SELECTOR, \"tbody.align-top tr\")\n",
    "            if not rows:\n",
    "                break  # If no rows are found, stop the loop\n",
    "\n",
    "            for row in rows:\n",
    "                rank = row.find_element(By.CSS_SELECTOR, \"span.float-left.medium-margin-right.weight-700.dark\").text.strip().replace(\".\",\"\")\n",
    "                name = row.find_element(By.CSS_SELECTOR, \"div.no-color.hover-link.weight-600\").text.strip()\n",
    "                username = row.find_element(By.CSS_SELECTOR, \"div.gray-text.body-font-small.hover-link\").text.strip()\n",
    "                score_data = row.find_element(By.CSS_SELECTOR, \"td.align-center\").text.strip()\n",
    "                time_data = row.find_elements(By.CSS_SELECTOR, \"td.align-center\")[1].text.strip()\n",
    "\n",
    "                score, questions_solved = score_data.split()\n",
    "                questions_solved = questions_solved.strip('()')\n",
    "\n",
    "                writer.writerow([rank, name, username, score, questions_solved, time_data])\n",
    "\n",
    "            # Check for the next page button and whether it is clickable\n",
    "            next_button = driver.find_elements(By.CSS_SELECTOR, \"i.fa.fa-angle-right.dark\")\n",
    "            if next_button and next_button[0].is_displayed():  # Check if it is displayed and presumably clickable\n",
    "                next_button[0].click()\n",
    "                page += 1\n",
    "            else:\n",
    "                break  # No more pages\n",
    "\n",
    "    finally:\n",
    "        driver.quit()\n"
   ]
  }
 ],
 "metadata": {
  "kernelspec": {
   "display_name": "Python 3",
   "language": "python",
   "name": "python3"
  },
  "language_info": {
   "codemirror_mode": {
    "name": "ipython",
    "version": 3
   },
   "file_extension": ".py",
   "mimetype": "text/x-python",
   "name": "python",
   "nbconvert_exporter": "python",
   "pygments_lexer": "ipython3",
   "version": "3.12.3"
  }
 },
 "nbformat": 4,
 "nbformat_minor": 2
}
